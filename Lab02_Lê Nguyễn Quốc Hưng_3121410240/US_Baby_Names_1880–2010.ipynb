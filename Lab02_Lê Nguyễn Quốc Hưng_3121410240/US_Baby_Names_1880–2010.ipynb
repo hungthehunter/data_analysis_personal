{
  "nbformat": 4,
  "nbformat_minor": 0,
  "metadata": {
    "colab": {
      "provenance": [],
      "collapsed_sections": [
        "c-U37X4PLWQV",
        "uSsM098oN6eG",
        "qaXnoEtDN-KO",
        "P-R7wBZ_2Ed9"
      ],
      "toc_visible": true
    },
    "kernelspec": {
      "name": "python3",
      "display_name": "Python 3"
    },
    "language_info": {
      "name": "python"
    }
  },
  "cells": [
    {
      "cell_type": "markdown",
      "source": [
        "# **US Baby Names 1880–2010**"
      ],
      "metadata": {
        "id": "bU-E0DaEKyV3"
      }
    },
    {
      "cell_type": "markdown",
      "source": [
        "## **1. Định nghĩa vấn đề**"
      ],
      "metadata": {
        "id": "c-U37X4PLWQV"
      }
    },
    {
      "cell_type": "markdown",
      "source": [
        "**Mô tả**:\n",
        "+ Bộ dữ liệu được chia thành các tệp theo từng năm (yob1880.txt đến yob2010.txt). Mỗi tệp chứa hàng nghìn mẫu (dòng), với tổng cộng hàng triệu mẫu trên toàn bộ các tệp (yob1880.txt đến yob2010.txt).\n",
        "\n",
        "+ Mỗi dòng (mẫu) thể hiện một tên duy nhất cho một giới tính cụ thể trong năm đó và số lượng trẻ được đặt tên đó.\n",
        "\n",
        "+ Có 3 trường dữ liệu (cột) trong mỗi tệp, và các tệp gốc không có tiêu đề (header). Khi đọc dữ liệu phải gán tên cho chúng: Tên (Name, kiểu chuỗi), Giới tính (Sex, 'F' cho Nữ hoặc 'M' cho Nam), và Số lượng sinh (Birth, số nguyên).\n",
        "\n",
        "**Dữ liệu đầu vào ban đầu (Tên cột chúng ta gán khi đọc):**\n",
        "  + name\n",
        "  + sex\n",
        "  + births\n",
        "\n",
        "**Dữ liệu đầu ra không có một cột \"Đầu ra\" cố định. Thay vào đó, có thể tạo ra các đầu ra (insights) bằng cách đặt câu hỏi cho dữ liệu:**\n",
        "  + Xu hướng phổ biến của một tên\n",
        "  + Tổng số ca sinh mỗi năm\n",
        "  + Tỷ lệ của một tên (so với tổng số)"
      ],
      "metadata": {
        "id": "_7A0mQtmSVgG"
      }
    },
    {
      "cell_type": "markdown",
      "source": [
        "## **2. Tổng quan về dữ liệu**"
      ],
      "metadata": {
        "id": "uSsM098oN6eG"
      }
    },
    {
      "cell_type": "markdown",
      "source": [
        "### (1) Cài đặt thư viện và kết nối bộ dữ liệu"
      ],
      "metadata": {
        "id": "-LOmhKAMUqge"
      }
    },
    {
      "cell_type": "code",
      "source": [
        "import pandas as pd\n",
        "import os\n",
        "import glob\n",
        "from google.colab import drive\n",
        "import seaborn as sns\n",
        "import matplotlib.pyplot as plt\n",
        "# 1. Chỉ định đường dẫn đến thư mục chứa dữ liệu\n",
        "drive.mount('/content/drive')\n"
      ],
      "metadata": {
        "colab": {
          "base_uri": "https://localhost:8080/"
        },
        "id": "23U3pMkEWWJF",
        "outputId": "4ce69502-4ae6-46e5-e893-2b5123cf9914"
      },
      "execution_count": 8,
      "outputs": [
        {
          "output_type": "stream",
          "name": "stdout",
          "text": [
            "Drive already mounted at /content/drive; to attempt to forcibly remount, call drive.mount(\"/content/drive\", force_remount=True).\n"
          ]
        }
      ]
    },
    {
      "cell_type": "markdown",
      "source": [
        "### (2) Nhập bộ dữ liệu"
      ],
      "metadata": {
        "id": "v5XV4suZYmJX"
      }
    },
    {
      "cell_type": "code",
      "source": [
        "# 1. Chỉ định đường dẫn\n",
        "path = '/content/drive/My Drive/dataset/babynames'\n",
        "\n",
        "# 2. Lấy danh sách tất cả các tệp .txt\n",
        "all_files = glob.glob(os.path.join(path, \"yob*.txt\"))\n",
        "\n",
        "# --- (TÙY CHỌN NHƯNG NÊN CÓ) SẮP XẾP DANH SÁCH TỆP ---\n",
        "# Giúp quá trình đọc dễ đoán hơn (phục vụ sắp xếp tăng dần)\n",
        "all_files.sort()\n",
        "# ----------------------------------------------------\n",
        "\n",
        "if not all_files:\n",
        "    print(f\"Không tìm thấy tệp .txt nào tại đường dẫn: {path}\")\n",
        "else:\n",
        "    print(f\"Đã tìm thấy {len(all_files)} tệp. Bắt đầu đọc...\")\n",
        "\n",
        "    pieces = []\n",
        "\n",
        "    # 4. Vòng lặp qua từng tệp tin\n",
        "    for file_path in all_files:\n",
        "        df_temp = pd.read_csv(\n",
        "            file_path,\n",
        "            names=['name', 'sex', 'births']\n",
        "        )\n",
        "\n",
        "        filename = os.path.basename(file_path)\n",
        "        year = int(filename[3:7])\n",
        "        df_temp['year'] = year\n",
        "\n",
        "        pieces.append(df_temp)\n",
        "\n",
        "    # 5. Gộp tất cả các DataFrame\n",
        "    data = pd.concat(pieces, ignore_index=True)\n",
        "\n",
        "    # --- SỬA LỖI Ở ĐÂY: SẮP XẾP LẠI TOÀN BỘ DATA FRAME ---\n",
        "    # Sắp xếp theo Năm (tăng dần), rồi Giới tính, rồi Số lượng (giảm dần)\n",
        "    data = data.sort_values(by=['year', 'sex', 'births'], ascending=[True, True, False])\n",
        "    data = data.reset_index(drop=True) # Đặt lại chỉ số sau khi sắp xếp\n",
        "    # ------------------------------------------------------\n",
        "\n",
        "    # 6. Hiển thị kết quả\n",
        "    print(\"\\nĐã gộp và sắp xếp xong! Đây là thông tin tổng quan:\")\n",
        "    print(data.info())\n",
        "\n",
        "    # --- CẬP NHẬT CÁCH IN (ĐỂ LUÔN LUÔN ĐÚNG) ---\n",
        "    min_year = data['year'].min()\n",
        "    max_year = data['year'].max()\n",
        "\n",
        "    print(f\"\\n--- 5 dòng đầu tiên (Năm: {min_year}) ---\")\n",
        "    print(data.head())\n",
        "\n",
        "    print(f\"\\n--- 5 dòng cuối cùng (Năm: {max_year}) ---\")\n",
        "    print(data.tail())"
      ],
      "metadata": {
        "colab": {
          "base_uri": "https://localhost:8080/"
        },
        "id": "JkTiXYf0YulO",
        "outputId": "db4ea656-a410-4b69-cd03-9cb2545e9c91"
      },
      "execution_count": 9,
      "outputs": [
        {
          "output_type": "stream",
          "name": "stdout",
          "text": [
            "Đã tìm thấy 131 tệp. Bắt đầu đọc...\n",
            "\n",
            "Đã gộp và sắp xếp xong! Đây là thông tin tổng quan:\n",
            "<class 'pandas.core.frame.DataFrame'>\n",
            "RangeIndex: 1692484 entries, 0 to 1692483\n",
            "Data columns (total 4 columns):\n",
            " #   Column  Dtype \n",
            "---  ------  ----- \n",
            " 0   name    object\n",
            " 1   sex     object\n",
            " 2   births  int64 \n",
            " 3   year    int64 \n",
            "dtypes: int64(2), object(2)\n",
            "memory usage: 51.7+ MB\n",
            "None\n",
            "\n",
            "--- 5 dòng đầu tiên (Năm: 1880) ---\n",
            "        name sex  births  year\n",
            "0       Mary   F    7065  1880\n",
            "1       Anna   F    2604  1880\n",
            "2       Emma   F    2003  1880\n",
            "3  Elizabeth   F    1939  1880\n",
            "4     Minnie   F    1746  1880\n",
            "\n",
            "--- 5 dòng cuối cùng (Năm: 2010) ---\n",
            "              name sex  births  year\n",
            "1692479    Zymaire   M       5  2010\n",
            "1692480     Zyonne   M       5  2010\n",
            "1692481  Zyquarius   M       5  2010\n",
            "1692482      Zyran   M       5  2010\n",
            "1692483      Zzyzx   M       5  2010\n"
          ]
        }
      ]
    },
    {
      "cell_type": "markdown",
      "source": [
        "## **3. Phân tích khám phá dữ liệu**"
      ],
      "metadata": {
        "id": "qaXnoEtDN-KO"
      }
    },
    {
      "cell_type": "markdown",
      "source": [
        "**Mục tiêu**:\n",
        "+ Quan sát kích cỡ dữ liệu (số lượng hàng và cột) và kiểu dữ liệu\n",
        "+ Tính toàn vẹn dữ liệu\n",
        "+ Kiểm tra Nan/Null\n",
        "+ Xử lý giá trị rỗng/thiếu\n",
        "+ Tần suất xuất hiện\n",
        "+ Hệ số tương đồng"
      ],
      "metadata": {
        "id": "NMFl2ib8Z8xd"
      }
    },
    {
      "cell_type": "markdown",
      "source": [
        "### (1) Nhìn sơ lược về dữ liệu"
      ],
      "metadata": {
        "id": "hdWVnJuUancV"
      }
    },
    {
      "cell_type": "code",
      "source": [
        "# Số dòng và cột\n",
        "print(f'+ Shape: {data.shape}')"
      ],
      "metadata": {
        "colab": {
          "base_uri": "https://localhost:8080/"
        },
        "id": "4zPy8ODZa3Dl",
        "outputId": "f8183395-7dd5-49ae-915d-e7748efa4490"
      },
      "execution_count": 10,
      "outputs": [
        {
          "output_type": "stream",
          "name": "stdout",
          "text": [
            "+ Shape: (1692484, 4)\n"
          ]
        }
      ]
    },
    {
      "cell_type": "markdown",
      "source": [
        "Bộ dữ liệu gồm 1692484 dòng (1 dòng đại diện cho tên của đứa trẻ) và 4 cột dữ liệu(name, sex, count, year)"
      ],
      "metadata": {
        "id": "iwhNCK_PbCKd"
      }
    },
    {
      "cell_type": "code",
      "source": [
        "# head, tail để xem 5 dòng đầu và 5 dòng cuối dữ liệu\n",
        "print(\"5 dòng đầu và 5 dòng cuối dữ liệu:\\n\")\n",
        "print(f'+ Contents: ')\n",
        "display(data.head(5))\n",
        "display(data.tail(5))"
      ],
      "metadata": {
        "colab": {
          "base_uri": "https://localhost:8080/",
          "height": 448
        },
        "id": "9Bfy8CuObvON",
        "outputId": "fe40991a-5f02-484c-c175-66a68825c9b6"
      },
      "execution_count": 11,
      "outputs": [
        {
          "output_type": "stream",
          "name": "stdout",
          "text": [
            "5 dòng đầu và 5 dòng cuối dữ liệu:\n",
            "\n",
            "+ Contents: \n"
          ]
        },
        {
          "output_type": "display_data",
          "data": {
            "text/plain": [
              "        name sex  births  year\n",
              "0       Mary   F    7065  1880\n",
              "1       Anna   F    2604  1880\n",
              "2       Emma   F    2003  1880\n",
              "3  Elizabeth   F    1939  1880\n",
              "4     Minnie   F    1746  1880"
            ],
            "text/html": [
              "\n",
              "  <div id=\"df-d238def1-72e4-4619-97bb-77bbd360a01d\" class=\"colab-df-container\">\n",
              "    <div>\n",
              "<style scoped>\n",
              "    .dataframe tbody tr th:only-of-type {\n",
              "        vertical-align: middle;\n",
              "    }\n",
              "\n",
              "    .dataframe tbody tr th {\n",
              "        vertical-align: top;\n",
              "    }\n",
              "\n",
              "    .dataframe thead th {\n",
              "        text-align: right;\n",
              "    }\n",
              "</style>\n",
              "<table border=\"1\" class=\"dataframe\">\n",
              "  <thead>\n",
              "    <tr style=\"text-align: right;\">\n",
              "      <th></th>\n",
              "      <th>name</th>\n",
              "      <th>sex</th>\n",
              "      <th>births</th>\n",
              "      <th>year</th>\n",
              "    </tr>\n",
              "  </thead>\n",
              "  <tbody>\n",
              "    <tr>\n",
              "      <th>0</th>\n",
              "      <td>Mary</td>\n",
              "      <td>F</td>\n",
              "      <td>7065</td>\n",
              "      <td>1880</td>\n",
              "    </tr>\n",
              "    <tr>\n",
              "      <th>1</th>\n",
              "      <td>Anna</td>\n",
              "      <td>F</td>\n",
              "      <td>2604</td>\n",
              "      <td>1880</td>\n",
              "    </tr>\n",
              "    <tr>\n",
              "      <th>2</th>\n",
              "      <td>Emma</td>\n",
              "      <td>F</td>\n",
              "      <td>2003</td>\n",
              "      <td>1880</td>\n",
              "    </tr>\n",
              "    <tr>\n",
              "      <th>3</th>\n",
              "      <td>Elizabeth</td>\n",
              "      <td>F</td>\n",
              "      <td>1939</td>\n",
              "      <td>1880</td>\n",
              "    </tr>\n",
              "    <tr>\n",
              "      <th>4</th>\n",
              "      <td>Minnie</td>\n",
              "      <td>F</td>\n",
              "      <td>1746</td>\n",
              "      <td>1880</td>\n",
              "    </tr>\n",
              "  </tbody>\n",
              "</table>\n",
              "</div>\n",
              "    <div class=\"colab-df-buttons\">\n",
              "\n",
              "  <div class=\"colab-df-container\">\n",
              "    <button class=\"colab-df-convert\" onclick=\"convertToInteractive('df-d238def1-72e4-4619-97bb-77bbd360a01d')\"\n",
              "            title=\"Convert this dataframe to an interactive table.\"\n",
              "            style=\"display:none;\">\n",
              "\n",
              "  <svg xmlns=\"http://www.w3.org/2000/svg\" height=\"24px\" viewBox=\"0 -960 960 960\">\n",
              "    <path d=\"M120-120v-720h720v720H120Zm60-500h600v-160H180v160Zm220 220h160v-160H400v160Zm0 220h160v-160H400v160ZM180-400h160v-160H180v160Zm440 0h160v-160H620v160ZM180-180h160v-160H180v160Zm440 0h160v-160H620v160Z\"/>\n",
              "  </svg>\n",
              "    </button>\n",
              "\n",
              "  <style>\n",
              "    .colab-df-container {\n",
              "      display:flex;\n",
              "      gap: 12px;\n",
              "    }\n",
              "\n",
              "    .colab-df-convert {\n",
              "      background-color: #E8F0FE;\n",
              "      border: none;\n",
              "      border-radius: 50%;\n",
              "      cursor: pointer;\n",
              "      display: none;\n",
              "      fill: #1967D2;\n",
              "      height: 32px;\n",
              "      padding: 0 0 0 0;\n",
              "      width: 32px;\n",
              "    }\n",
              "\n",
              "    .colab-df-convert:hover {\n",
              "      background-color: #E2EBFA;\n",
              "      box-shadow: 0px 1px 2px rgba(60, 64, 67, 0.3), 0px 1px 3px 1px rgba(60, 64, 67, 0.15);\n",
              "      fill: #174EA6;\n",
              "    }\n",
              "\n",
              "    .colab-df-buttons div {\n",
              "      margin-bottom: 4px;\n",
              "    }\n",
              "\n",
              "    [theme=dark] .colab-df-convert {\n",
              "      background-color: #3B4455;\n",
              "      fill: #D2E3FC;\n",
              "    }\n",
              "\n",
              "    [theme=dark] .colab-df-convert:hover {\n",
              "      background-color: #434B5C;\n",
              "      box-shadow: 0px 1px 3px 1px rgba(0, 0, 0, 0.15);\n",
              "      filter: drop-shadow(0px 1px 2px rgba(0, 0, 0, 0.3));\n",
              "      fill: #FFFFFF;\n",
              "    }\n",
              "  </style>\n",
              "\n",
              "    <script>\n",
              "      const buttonEl =\n",
              "        document.querySelector('#df-d238def1-72e4-4619-97bb-77bbd360a01d button.colab-df-convert');\n",
              "      buttonEl.style.display =\n",
              "        google.colab.kernel.accessAllowed ? 'block' : 'none';\n",
              "\n",
              "      async function convertToInteractive(key) {\n",
              "        const element = document.querySelector('#df-d238def1-72e4-4619-97bb-77bbd360a01d');\n",
              "        const dataTable =\n",
              "          await google.colab.kernel.invokeFunction('convertToInteractive',\n",
              "                                                    [key], {});\n",
              "        if (!dataTable) return;\n",
              "\n",
              "        const docLinkHtml = 'Like what you see? Visit the ' +\n",
              "          '<a target=\"_blank\" href=https://colab.research.google.com/notebooks/data_table.ipynb>data table notebook</a>'\n",
              "          + ' to learn more about interactive tables.';\n",
              "        element.innerHTML = '';\n",
              "        dataTable['output_type'] = 'display_data';\n",
              "        await google.colab.output.renderOutput(dataTable, element);\n",
              "        const docLink = document.createElement('div');\n",
              "        docLink.innerHTML = docLinkHtml;\n",
              "        element.appendChild(docLink);\n",
              "      }\n",
              "    </script>\n",
              "  </div>\n",
              "\n",
              "\n",
              "    <div id=\"df-84d7ed8d-deb1-46a3-83bd-df4829f7606c\">\n",
              "      <button class=\"colab-df-quickchart\" onclick=\"quickchart('df-84d7ed8d-deb1-46a3-83bd-df4829f7606c')\"\n",
              "                title=\"Suggest charts\"\n",
              "                style=\"display:none;\">\n",
              "\n",
              "<svg xmlns=\"http://www.w3.org/2000/svg\" height=\"24px\"viewBox=\"0 0 24 24\"\n",
              "     width=\"24px\">\n",
              "    <g>\n",
              "        <path d=\"M19 3H5c-1.1 0-2 .9-2 2v14c0 1.1.9 2 2 2h14c1.1 0 2-.9 2-2V5c0-1.1-.9-2-2-2zM9 17H7v-7h2v7zm4 0h-2V7h2v10zm4 0h-2v-4h2v4z\"/>\n",
              "    </g>\n",
              "</svg>\n",
              "      </button>\n",
              "\n",
              "<style>\n",
              "  .colab-df-quickchart {\n",
              "      --bg-color: #E8F0FE;\n",
              "      --fill-color: #1967D2;\n",
              "      --hover-bg-color: #E2EBFA;\n",
              "      --hover-fill-color: #174EA6;\n",
              "      --disabled-fill-color: #AAA;\n",
              "      --disabled-bg-color: #DDD;\n",
              "  }\n",
              "\n",
              "  [theme=dark] .colab-df-quickchart {\n",
              "      --bg-color: #3B4455;\n",
              "      --fill-color: #D2E3FC;\n",
              "      --hover-bg-color: #434B5C;\n",
              "      --hover-fill-color: #FFFFFF;\n",
              "      --disabled-bg-color: #3B4455;\n",
              "      --disabled-fill-color: #666;\n",
              "  }\n",
              "\n",
              "  .colab-df-quickchart {\n",
              "    background-color: var(--bg-color);\n",
              "    border: none;\n",
              "    border-radius: 50%;\n",
              "    cursor: pointer;\n",
              "    display: none;\n",
              "    fill: var(--fill-color);\n",
              "    height: 32px;\n",
              "    padding: 0;\n",
              "    width: 32px;\n",
              "  }\n",
              "\n",
              "  .colab-df-quickchart:hover {\n",
              "    background-color: var(--hover-bg-color);\n",
              "    box-shadow: 0 1px 2px rgba(60, 64, 67, 0.3), 0 1px 3px 1px rgba(60, 64, 67, 0.15);\n",
              "    fill: var(--button-hover-fill-color);\n",
              "  }\n",
              "\n",
              "  .colab-df-quickchart-complete:disabled,\n",
              "  .colab-df-quickchart-complete:disabled:hover {\n",
              "    background-color: var(--disabled-bg-color);\n",
              "    fill: var(--disabled-fill-color);\n",
              "    box-shadow: none;\n",
              "  }\n",
              "\n",
              "  .colab-df-spinner {\n",
              "    border: 2px solid var(--fill-color);\n",
              "    border-color: transparent;\n",
              "    border-bottom-color: var(--fill-color);\n",
              "    animation:\n",
              "      spin 1s steps(1) infinite;\n",
              "  }\n",
              "\n",
              "  @keyframes spin {\n",
              "    0% {\n",
              "      border-color: transparent;\n",
              "      border-bottom-color: var(--fill-color);\n",
              "      border-left-color: var(--fill-color);\n",
              "    }\n",
              "    20% {\n",
              "      border-color: transparent;\n",
              "      border-left-color: var(--fill-color);\n",
              "      border-top-color: var(--fill-color);\n",
              "    }\n",
              "    30% {\n",
              "      border-color: transparent;\n",
              "      border-left-color: var(--fill-color);\n",
              "      border-top-color: var(--fill-color);\n",
              "      border-right-color: var(--fill-color);\n",
              "    }\n",
              "    40% {\n",
              "      border-color: transparent;\n",
              "      border-right-color: var(--fill-color);\n",
              "      border-top-color: var(--fill-color);\n",
              "    }\n",
              "    60% {\n",
              "      border-color: transparent;\n",
              "      border-right-color: var(--fill-color);\n",
              "    }\n",
              "    80% {\n",
              "      border-color: transparent;\n",
              "      border-right-color: var(--fill-color);\n",
              "      border-bottom-color: var(--fill-color);\n",
              "    }\n",
              "    90% {\n",
              "      border-color: transparent;\n",
              "      border-bottom-color: var(--fill-color);\n",
              "    }\n",
              "  }\n",
              "</style>\n",
              "\n",
              "      <script>\n",
              "        async function quickchart(key) {\n",
              "          const quickchartButtonEl =\n",
              "            document.querySelector('#' + key + ' button');\n",
              "          quickchartButtonEl.disabled = true;  // To prevent multiple clicks.\n",
              "          quickchartButtonEl.classList.add('colab-df-spinner');\n",
              "          try {\n",
              "            const charts = await google.colab.kernel.invokeFunction(\n",
              "                'suggestCharts', [key], {});\n",
              "          } catch (error) {\n",
              "            console.error('Error during call to suggestCharts:', error);\n",
              "          }\n",
              "          quickchartButtonEl.classList.remove('colab-df-spinner');\n",
              "          quickchartButtonEl.classList.add('colab-df-quickchart-complete');\n",
              "        }\n",
              "        (() => {\n",
              "          let quickchartButtonEl =\n",
              "            document.querySelector('#df-84d7ed8d-deb1-46a3-83bd-df4829f7606c button');\n",
              "          quickchartButtonEl.style.display =\n",
              "            google.colab.kernel.accessAllowed ? 'block' : 'none';\n",
              "        })();\n",
              "      </script>\n",
              "    </div>\n",
              "\n",
              "    </div>\n",
              "  </div>\n"
            ],
            "application/vnd.google.colaboratory.intrinsic+json": {
              "type": "dataframe",
              "summary": "{\n  \"name\": \"display(data\",\n  \"rows\": 5,\n  \"fields\": [\n    {\n      \"column\": \"name\",\n      \"properties\": {\n        \"dtype\": \"string\",\n        \"num_unique_values\": 5,\n        \"samples\": [\n          \"Anna\",\n          \"Minnie\",\n          \"Emma\"\n        ],\n        \"semantic_type\": \"\",\n        \"description\": \"\"\n      }\n    },\n    {\n      \"column\": \"sex\",\n      \"properties\": {\n        \"dtype\": \"category\",\n        \"num_unique_values\": 1,\n        \"samples\": [\n          \"F\"\n        ],\n        \"semantic_type\": \"\",\n        \"description\": \"\"\n      }\n    },\n    {\n      \"column\": \"births\",\n      \"properties\": {\n        \"dtype\": \"number\",\n        \"std\": 2255,\n        \"min\": 1746,\n        \"max\": 7065,\n        \"num_unique_values\": 5,\n        \"samples\": [\n          2604\n        ],\n        \"semantic_type\": \"\",\n        \"description\": \"\"\n      }\n    },\n    {\n      \"column\": \"year\",\n      \"properties\": {\n        \"dtype\": \"number\",\n        \"std\": 0,\n        \"min\": 1880,\n        \"max\": 1880,\n        \"num_unique_values\": 1,\n        \"samples\": [\n          1880\n        ],\n        \"semantic_type\": \"\",\n        \"description\": \"\"\n      }\n    }\n  ]\n}"
            }
          },
          "metadata": {}
        },
        {
          "output_type": "display_data",
          "data": {
            "text/plain": [
              "              name sex  births  year\n",
              "1692479    Zymaire   M       5  2010\n",
              "1692480     Zyonne   M       5  2010\n",
              "1692481  Zyquarius   M       5  2010\n",
              "1692482      Zyran   M       5  2010\n",
              "1692483      Zzyzx   M       5  2010"
            ],
            "text/html": [
              "\n",
              "  <div id=\"df-1311f4e5-4d26-45ab-837a-fad47fe2d04a\" class=\"colab-df-container\">\n",
              "    <div>\n",
              "<style scoped>\n",
              "    .dataframe tbody tr th:only-of-type {\n",
              "        vertical-align: middle;\n",
              "    }\n",
              "\n",
              "    .dataframe tbody tr th {\n",
              "        vertical-align: top;\n",
              "    }\n",
              "\n",
              "    .dataframe thead th {\n",
              "        text-align: right;\n",
              "    }\n",
              "</style>\n",
              "<table border=\"1\" class=\"dataframe\">\n",
              "  <thead>\n",
              "    <tr style=\"text-align: right;\">\n",
              "      <th></th>\n",
              "      <th>name</th>\n",
              "      <th>sex</th>\n",
              "      <th>births</th>\n",
              "      <th>year</th>\n",
              "    </tr>\n",
              "  </thead>\n",
              "  <tbody>\n",
              "    <tr>\n",
              "      <th>1692479</th>\n",
              "      <td>Zymaire</td>\n",
              "      <td>M</td>\n",
              "      <td>5</td>\n",
              "      <td>2010</td>\n",
              "    </tr>\n",
              "    <tr>\n",
              "      <th>1692480</th>\n",
              "      <td>Zyonne</td>\n",
              "      <td>M</td>\n",
              "      <td>5</td>\n",
              "      <td>2010</td>\n",
              "    </tr>\n",
              "    <tr>\n",
              "      <th>1692481</th>\n",
              "      <td>Zyquarius</td>\n",
              "      <td>M</td>\n",
              "      <td>5</td>\n",
              "      <td>2010</td>\n",
              "    </tr>\n",
              "    <tr>\n",
              "      <th>1692482</th>\n",
              "      <td>Zyran</td>\n",
              "      <td>M</td>\n",
              "      <td>5</td>\n",
              "      <td>2010</td>\n",
              "    </tr>\n",
              "    <tr>\n",
              "      <th>1692483</th>\n",
              "      <td>Zzyzx</td>\n",
              "      <td>M</td>\n",
              "      <td>5</td>\n",
              "      <td>2010</td>\n",
              "    </tr>\n",
              "  </tbody>\n",
              "</table>\n",
              "</div>\n",
              "    <div class=\"colab-df-buttons\">\n",
              "\n",
              "  <div class=\"colab-df-container\">\n",
              "    <button class=\"colab-df-convert\" onclick=\"convertToInteractive('df-1311f4e5-4d26-45ab-837a-fad47fe2d04a')\"\n",
              "            title=\"Convert this dataframe to an interactive table.\"\n",
              "            style=\"display:none;\">\n",
              "\n",
              "  <svg xmlns=\"http://www.w3.org/2000/svg\" height=\"24px\" viewBox=\"0 -960 960 960\">\n",
              "    <path d=\"M120-120v-720h720v720H120Zm60-500h600v-160H180v160Zm220 220h160v-160H400v160Zm0 220h160v-160H400v160ZM180-400h160v-160H180v160Zm440 0h160v-160H620v160ZM180-180h160v-160H180v160Zm440 0h160v-160H620v160Z\"/>\n",
              "  </svg>\n",
              "    </button>\n",
              "\n",
              "  <style>\n",
              "    .colab-df-container {\n",
              "      display:flex;\n",
              "      gap: 12px;\n",
              "    }\n",
              "\n",
              "    .colab-df-convert {\n",
              "      background-color: #E8F0FE;\n",
              "      border: none;\n",
              "      border-radius: 50%;\n",
              "      cursor: pointer;\n",
              "      display: none;\n",
              "      fill: #1967D2;\n",
              "      height: 32px;\n",
              "      padding: 0 0 0 0;\n",
              "      width: 32px;\n",
              "    }\n",
              "\n",
              "    .colab-df-convert:hover {\n",
              "      background-color: #E2EBFA;\n",
              "      box-shadow: 0px 1px 2px rgba(60, 64, 67, 0.3), 0px 1px 3px 1px rgba(60, 64, 67, 0.15);\n",
              "      fill: #174EA6;\n",
              "    }\n",
              "\n",
              "    .colab-df-buttons div {\n",
              "      margin-bottom: 4px;\n",
              "    }\n",
              "\n",
              "    [theme=dark] .colab-df-convert {\n",
              "      background-color: #3B4455;\n",
              "      fill: #D2E3FC;\n",
              "    }\n",
              "\n",
              "    [theme=dark] .colab-df-convert:hover {\n",
              "      background-color: #434B5C;\n",
              "      box-shadow: 0px 1px 3px 1px rgba(0, 0, 0, 0.15);\n",
              "      filter: drop-shadow(0px 1px 2px rgba(0, 0, 0, 0.3));\n",
              "      fill: #FFFFFF;\n",
              "    }\n",
              "  </style>\n",
              "\n",
              "    <script>\n",
              "      const buttonEl =\n",
              "        document.querySelector('#df-1311f4e5-4d26-45ab-837a-fad47fe2d04a button.colab-df-convert');\n",
              "      buttonEl.style.display =\n",
              "        google.colab.kernel.accessAllowed ? 'block' : 'none';\n",
              "\n",
              "      async function convertToInteractive(key) {\n",
              "        const element = document.querySelector('#df-1311f4e5-4d26-45ab-837a-fad47fe2d04a');\n",
              "        const dataTable =\n",
              "          await google.colab.kernel.invokeFunction('convertToInteractive',\n",
              "                                                    [key], {});\n",
              "        if (!dataTable) return;\n",
              "\n",
              "        const docLinkHtml = 'Like what you see? Visit the ' +\n",
              "          '<a target=\"_blank\" href=https://colab.research.google.com/notebooks/data_table.ipynb>data table notebook</a>'\n",
              "          + ' to learn more about interactive tables.';\n",
              "        element.innerHTML = '';\n",
              "        dataTable['output_type'] = 'display_data';\n",
              "        await google.colab.output.renderOutput(dataTable, element);\n",
              "        const docLink = document.createElement('div');\n",
              "        docLink.innerHTML = docLinkHtml;\n",
              "        element.appendChild(docLink);\n",
              "      }\n",
              "    </script>\n",
              "  </div>\n",
              "\n",
              "\n",
              "    <div id=\"df-dca99fab-0616-42df-a15d-79e02ac22cf1\">\n",
              "      <button class=\"colab-df-quickchart\" onclick=\"quickchart('df-dca99fab-0616-42df-a15d-79e02ac22cf1')\"\n",
              "                title=\"Suggest charts\"\n",
              "                style=\"display:none;\">\n",
              "\n",
              "<svg xmlns=\"http://www.w3.org/2000/svg\" height=\"24px\"viewBox=\"0 0 24 24\"\n",
              "     width=\"24px\">\n",
              "    <g>\n",
              "        <path d=\"M19 3H5c-1.1 0-2 .9-2 2v14c0 1.1.9 2 2 2h14c1.1 0 2-.9 2-2V5c0-1.1-.9-2-2-2zM9 17H7v-7h2v7zm4 0h-2V7h2v10zm4 0h-2v-4h2v4z\"/>\n",
              "    </g>\n",
              "</svg>\n",
              "      </button>\n",
              "\n",
              "<style>\n",
              "  .colab-df-quickchart {\n",
              "      --bg-color: #E8F0FE;\n",
              "      --fill-color: #1967D2;\n",
              "      --hover-bg-color: #E2EBFA;\n",
              "      --hover-fill-color: #174EA6;\n",
              "      --disabled-fill-color: #AAA;\n",
              "      --disabled-bg-color: #DDD;\n",
              "  }\n",
              "\n",
              "  [theme=dark] .colab-df-quickchart {\n",
              "      --bg-color: #3B4455;\n",
              "      --fill-color: #D2E3FC;\n",
              "      --hover-bg-color: #434B5C;\n",
              "      --hover-fill-color: #FFFFFF;\n",
              "      --disabled-bg-color: #3B4455;\n",
              "      --disabled-fill-color: #666;\n",
              "  }\n",
              "\n",
              "  .colab-df-quickchart {\n",
              "    background-color: var(--bg-color);\n",
              "    border: none;\n",
              "    border-radius: 50%;\n",
              "    cursor: pointer;\n",
              "    display: none;\n",
              "    fill: var(--fill-color);\n",
              "    height: 32px;\n",
              "    padding: 0;\n",
              "    width: 32px;\n",
              "  }\n",
              "\n",
              "  .colab-df-quickchart:hover {\n",
              "    background-color: var(--hover-bg-color);\n",
              "    box-shadow: 0 1px 2px rgba(60, 64, 67, 0.3), 0 1px 3px 1px rgba(60, 64, 67, 0.15);\n",
              "    fill: var(--button-hover-fill-color);\n",
              "  }\n",
              "\n",
              "  .colab-df-quickchart-complete:disabled,\n",
              "  .colab-df-quickchart-complete:disabled:hover {\n",
              "    background-color: var(--disabled-bg-color);\n",
              "    fill: var(--disabled-fill-color);\n",
              "    box-shadow: none;\n",
              "  }\n",
              "\n",
              "  .colab-df-spinner {\n",
              "    border: 2px solid var(--fill-color);\n",
              "    border-color: transparent;\n",
              "    border-bottom-color: var(--fill-color);\n",
              "    animation:\n",
              "      spin 1s steps(1) infinite;\n",
              "  }\n",
              "\n",
              "  @keyframes spin {\n",
              "    0% {\n",
              "      border-color: transparent;\n",
              "      border-bottom-color: var(--fill-color);\n",
              "      border-left-color: var(--fill-color);\n",
              "    }\n",
              "    20% {\n",
              "      border-color: transparent;\n",
              "      border-left-color: var(--fill-color);\n",
              "      border-top-color: var(--fill-color);\n",
              "    }\n",
              "    30% {\n",
              "      border-color: transparent;\n",
              "      border-left-color: var(--fill-color);\n",
              "      border-top-color: var(--fill-color);\n",
              "      border-right-color: var(--fill-color);\n",
              "    }\n",
              "    40% {\n",
              "      border-color: transparent;\n",
              "      border-right-color: var(--fill-color);\n",
              "      border-top-color: var(--fill-color);\n",
              "    }\n",
              "    60% {\n",
              "      border-color: transparent;\n",
              "      border-right-color: var(--fill-color);\n",
              "    }\n",
              "    80% {\n",
              "      border-color: transparent;\n",
              "      border-right-color: var(--fill-color);\n",
              "      border-bottom-color: var(--fill-color);\n",
              "    }\n",
              "    90% {\n",
              "      border-color: transparent;\n",
              "      border-bottom-color: var(--fill-color);\n",
              "    }\n",
              "  }\n",
              "</style>\n",
              "\n",
              "      <script>\n",
              "        async function quickchart(key) {\n",
              "          const quickchartButtonEl =\n",
              "            document.querySelector('#' + key + ' button');\n",
              "          quickchartButtonEl.disabled = true;  // To prevent multiple clicks.\n",
              "          quickchartButtonEl.classList.add('colab-df-spinner');\n",
              "          try {\n",
              "            const charts = await google.colab.kernel.invokeFunction(\n",
              "                'suggestCharts', [key], {});\n",
              "          } catch (error) {\n",
              "            console.error('Error during call to suggestCharts:', error);\n",
              "          }\n",
              "          quickchartButtonEl.classList.remove('colab-df-spinner');\n",
              "          quickchartButtonEl.classList.add('colab-df-quickchart-complete');\n",
              "        }\n",
              "        (() => {\n",
              "          let quickchartButtonEl =\n",
              "            document.querySelector('#df-dca99fab-0616-42df-a15d-79e02ac22cf1 button');\n",
              "          quickchartButtonEl.style.display =\n",
              "            google.colab.kernel.accessAllowed ? 'block' : 'none';\n",
              "        })();\n",
              "      </script>\n",
              "    </div>\n",
              "\n",
              "    </div>\n",
              "  </div>\n"
            ],
            "application/vnd.google.colaboratory.intrinsic+json": {
              "type": "dataframe",
              "summary": "{\n  \"name\": \"display(data\",\n  \"rows\": 5,\n  \"fields\": [\n    {\n      \"column\": \"name\",\n      \"properties\": {\n        \"dtype\": \"string\",\n        \"num_unique_values\": 5,\n        \"samples\": [\n          \"Zyonne\",\n          \"Zzyzx\",\n          \"Zyquarius\"\n        ],\n        \"semantic_type\": \"\",\n        \"description\": \"\"\n      }\n    },\n    {\n      \"column\": \"sex\",\n      \"properties\": {\n        \"dtype\": \"category\",\n        \"num_unique_values\": 1,\n        \"samples\": [\n          \"M\"\n        ],\n        \"semantic_type\": \"\",\n        \"description\": \"\"\n      }\n    },\n    {\n      \"column\": \"births\",\n      \"properties\": {\n        \"dtype\": \"number\",\n        \"std\": 0,\n        \"min\": 5,\n        \"max\": 5,\n        \"num_unique_values\": 1,\n        \"samples\": [\n          5\n        ],\n        \"semantic_type\": \"\",\n        \"description\": \"\"\n      }\n    },\n    {\n      \"column\": \"year\",\n      \"properties\": {\n        \"dtype\": \"number\",\n        \"std\": 0,\n        \"min\": 2010,\n        \"max\": 2010,\n        \"num_unique_values\": 1,\n        \"samples\": [\n          2010\n        ],\n        \"semantic_type\": \"\",\n        \"description\": \"\"\n      }\n    }\n  ]\n}"
            }
          },
          "metadata": {}
        }
      ]
    },
    {
      "cell_type": "markdown",
      "source": [
        "Bộ dữ liệu được sắp xếp tăng dần theo các năm (1880 đến 2010) dựa vào cột 'year'"
      ],
      "metadata": {
        "id": "zXfYDXHtcwRe"
      }
    },
    {
      "cell_type": "code",
      "source": [
        "# info để xem thông tin dữ liệu Tên cột (Column) Số lượng giá trị không rỗng Non-Null Count (missing values/NaN).Kiểu dữ liệu (Dtype)\n",
        "print(\"Thông tin dữ liệu:\\n\")\n",
        "print(f'+ Info: \\n{data.info()}')"
      ],
      "metadata": {
        "colab": {
          "base_uri": "https://localhost:8080/"
        },
        "id": "x4HorQhUcAbW",
        "outputId": "e87552f7-3a75-447a-fb01-b691b1590ad2"
      },
      "execution_count": 12,
      "outputs": [
        {
          "output_type": "stream",
          "name": "stdout",
          "text": [
            "Thông tin dữ liệu:\n",
            "\n",
            "<class 'pandas.core.frame.DataFrame'>\n",
            "RangeIndex: 1692484 entries, 0 to 1692483\n",
            "Data columns (total 4 columns):\n",
            " #   Column  Dtype \n",
            "---  ------  ----- \n",
            " 0   name    object\n",
            " 1   sex     object\n",
            " 2   births  int64 \n",
            " 3   year    int64 \n",
            "dtypes: int64(2), object(2)\n",
            "memory usage: 51.7+ MB\n",
            "+ Info: \n",
            "None\n"
          ]
        }
      ]
    },
    {
      "cell_type": "markdown",
      "source": [
        "**Dữ liệu rất \"sạch\" và sẵn sàng để phân tích:**\n",
        "\n",
        "+ Tổng cộng gần 1.7 triệu dòng đã được tải thành công.\n",
        "\n",
        "+ Không có dữ liệu bị thiếu (null).\n",
        "\n",
        "+ Các kiểu dữ liệu (Dtypes) đều chính xác: name và sex là object (chuỗi), count và year là int64 (số nguyên)"
      ],
      "metadata": {
        "id": "UI9C-zCedKvl"
      }
    },
    {
      "cell_type": "markdown",
      "source": [
        "### (2) Kiểm tra tính toàn vẹn của dữ liệu\n",
        "+ Dữ liệu có chứa dữ liệu trùng lặp không? Hiển thị các hàng vi phạm.\n",
        "+ Dữ liệu có chứa giá trị Null không? Hiển thị các hàng vi phạm.\n",
        "+ Dữ liệu có chứa giá trị NaN không? Hiển thị các hàng vi phạm."
      ],
      "metadata": {
        "id": "ROmNAZdqdnuV"
      }
    },
    {
      "cell_type": "code",
      "source": [
        "from typing_extensions import dataclass_transform\n",
        "# Kiểm tra dữ liệu null, nan, trùng lặp(duplicated) và dữ liệu thiếu\n",
        "has_null = data.isnull().sum().any()\n",
        "has_nan  = data.isna().sum().any()\n",
        "n_duplicated = data.duplicated().sum()\n",
        "has_missing_values = data.isnull().sum().any()\n",
        "\n",
        "\n",
        "print(f'Tính toàn vẹn dữ liệu:')\n",
        "print(f'+ Có giá trị Null: {has_null}')\n",
        "if has_null:\n",
        "    display.display(data[data.isnull().any(axis=1)])\n",
        "print(f'+ Có giá trị Nan: {has_nan}')\n",
        "if has_nan:\n",
        "    display.display(dataclass_transform[data.isna().any(axis=1)])\n",
        "print(f'+ Số dòng trùng: {n_duplicated}')\n",
        "if has_missing_values:\n",
        "    print('   -> Các dòng chứa giá trị thiếu:')\n",
        "    display.display(data[data.isnull().any(axis=1)])\n",
        "\n",
        "# Kiểm tra và hiển thị các dòng bị trùng lặp\n",
        "print(f'+ Số dòng bị trùng lặp: {n_duplicated}')\n",
        "if n_duplicated > 0:\n",
        "    print('   -> Các dòng bị trùng lặp (bao gồm cả dòng gốc để đối chiếu):')\n",
        "    # Sử dụng keep=False để hiển thị tất cả các bản sao của một dòng bị lặp\n",
        "    display.display(data[data.duplicated(keep=False)])"
      ],
      "metadata": {
        "colab": {
          "base_uri": "https://localhost:8080/"
        },
        "id": "7Yo0x1-seILt",
        "outputId": "6b553270-7ef2-4469-ebbc-a793f34f62fa"
      },
      "execution_count": 13,
      "outputs": [
        {
          "output_type": "stream",
          "name": "stdout",
          "text": [
            "Tính toàn vẹn dữ liệu:\n",
            "+ Có giá trị Null: False\n",
            "+ Có giá trị Nan: False\n",
            "+ Số dòng trùng: 0\n",
            "+ Số dòng bị trùng lặp: 0\n"
          ]
        }
      ]
    },
    {
      "cell_type": "markdown",
      "source": [
        "### (3) Xử lý giá trị rỗng, không hợp lệ"
      ],
      "metadata": {
        "id": "Fdq3xI1BerLl"
      }
    },
    {
      "cell_type": "code",
      "source": [
        "# + Xóa bỏ cột vi phạm\n",
        "# df_train.drop(\"cột_vi_phạm\", axis=1)\n",
        "\n",
        "# + Xóa bỏ các dòng vi phạm\n",
        "# df_train.dropna(subset=[\"cột_vi_phạm\", ...])\n",
        "\n",
        "# + Điền giá trị mặc định:\n",
        "# median = df_train[\"cột_vi_phạm\"].median()\n",
        "# df_train[\"cột_vi_phạm\"].fillna(median, inplace=True)\n",
        "\n",
        "print(\"=\"*5, \"Null Value\", \"=\"*5)\n",
        "display(data.isnull().sum())\n",
        "\n",
        "print(\"=\"*5, \"Checking NaN\", \"=\"*5)\n",
        "display(data.isna().sum())"
      ],
      "metadata": {
        "colab": {
          "base_uri": "https://localhost:8080/",
          "height": 437
        },
        "id": "n6PIwr_hewXl",
        "outputId": "798c56d9-3c26-4e01-cc1a-0344b114475e"
      },
      "execution_count": 14,
      "outputs": [
        {
          "output_type": "stream",
          "name": "stdout",
          "text": [
            "===== Null Value =====\n"
          ]
        },
        {
          "output_type": "display_data",
          "data": {
            "text/plain": [
              "name      0\n",
              "sex       0\n",
              "births    0\n",
              "year      0\n",
              "dtype: int64"
            ],
            "text/html": [
              "<div>\n",
              "<style scoped>\n",
              "    .dataframe tbody tr th:only-of-type {\n",
              "        vertical-align: middle;\n",
              "    }\n",
              "\n",
              "    .dataframe tbody tr th {\n",
              "        vertical-align: top;\n",
              "    }\n",
              "\n",
              "    .dataframe thead th {\n",
              "        text-align: right;\n",
              "    }\n",
              "</style>\n",
              "<table border=\"1\" class=\"dataframe\">\n",
              "  <thead>\n",
              "    <tr style=\"text-align: right;\">\n",
              "      <th></th>\n",
              "      <th>0</th>\n",
              "    </tr>\n",
              "  </thead>\n",
              "  <tbody>\n",
              "    <tr>\n",
              "      <th>name</th>\n",
              "      <td>0</td>\n",
              "    </tr>\n",
              "    <tr>\n",
              "      <th>sex</th>\n",
              "      <td>0</td>\n",
              "    </tr>\n",
              "    <tr>\n",
              "      <th>births</th>\n",
              "      <td>0</td>\n",
              "    </tr>\n",
              "    <tr>\n",
              "      <th>year</th>\n",
              "      <td>0</td>\n",
              "    </tr>\n",
              "  </tbody>\n",
              "</table>\n",
              "</div><br><label><b>dtype:</b> int64</label>"
            ]
          },
          "metadata": {}
        },
        {
          "output_type": "stream",
          "name": "stdout",
          "text": [
            "===== Checking NaN =====\n"
          ]
        },
        {
          "output_type": "display_data",
          "data": {
            "text/plain": [
              "name      0\n",
              "sex       0\n",
              "births    0\n",
              "year      0\n",
              "dtype: int64"
            ],
            "text/html": [
              "<div>\n",
              "<style scoped>\n",
              "    .dataframe tbody tr th:only-of-type {\n",
              "        vertical-align: middle;\n",
              "    }\n",
              "\n",
              "    .dataframe tbody tr th {\n",
              "        vertical-align: top;\n",
              "    }\n",
              "\n",
              "    .dataframe thead th {\n",
              "        text-align: right;\n",
              "    }\n",
              "</style>\n",
              "<table border=\"1\" class=\"dataframe\">\n",
              "  <thead>\n",
              "    <tr style=\"text-align: right;\">\n",
              "      <th></th>\n",
              "      <th>0</th>\n",
              "    </tr>\n",
              "  </thead>\n",
              "  <tbody>\n",
              "    <tr>\n",
              "      <th>name</th>\n",
              "      <td>0</td>\n",
              "    </tr>\n",
              "    <tr>\n",
              "      <th>sex</th>\n",
              "      <td>0</td>\n",
              "    </tr>\n",
              "    <tr>\n",
              "      <th>births</th>\n",
              "      <td>0</td>\n",
              "    </tr>\n",
              "    <tr>\n",
              "      <th>year</th>\n",
              "      <td>0</td>\n",
              "    </tr>\n",
              "  </tbody>\n",
              "</table>\n",
              "</div><br><label><b>dtype:</b> int64</label>"
            ]
          },
          "metadata": {}
        }
      ]
    },
    {
      "cell_type": "markdown",
      "source": [
        "Bộ dữ liệu không chứa giá trị Null/NaN của từng dòng thuộc các cột dữ liệu"
      ],
      "metadata": {
        "id": "3lK3kR7Ne7pe"
      }
    },
    {
      "cell_type": "markdown",
      "source": [
        "### (4) Tính chất thống kê trên dữ liệu số\n",
        "+ Số lượng, Trung bình, Độ lệch chuẩn, Giá trị nhỏ nhất\n",
        "+ Phân vị thứ 25, Phân vị thứ 50 (Trung vị), Phân vị thứ 75, Giá trị lớn nhất"
      ],
      "metadata": {
        "id": "1zUGdKkjfK49"
      }
    },
    {
      "cell_type": "code",
      "source": [
        "description = data.describe().T\n",
        "display(description)"
      ],
      "metadata": {
        "colab": {
          "base_uri": "https://localhost:8080/",
          "height": 125
        },
        "id": "4WLx5kzIfp9_",
        "outputId": "c9d10c27-9e43-4a2c-9474-4724b20cc256"
      },
      "execution_count": 15,
      "outputs": [
        {
          "output_type": "display_data",
          "data": {
            "text/plain": [
              "            count         mean          std     min     25%     50%     75%  \\\n",
              "births  1692484.0   190.634691  1615.922978     5.0     7.0    12.0    32.0   \n",
              "year    1692484.0  1969.475840    32.819578  1880.0  1946.0  1979.0  1997.0   \n",
              "\n",
              "            max  \n",
              "births  99693.0  \n",
              "year     2010.0  "
            ],
            "text/html": [
              "\n",
              "  <div id=\"df-9a4297ba-98c1-4d38-ac67-0963486c81d3\" class=\"colab-df-container\">\n",
              "    <div>\n",
              "<style scoped>\n",
              "    .dataframe tbody tr th:only-of-type {\n",
              "        vertical-align: middle;\n",
              "    }\n",
              "\n",
              "    .dataframe tbody tr th {\n",
              "        vertical-align: top;\n",
              "    }\n",
              "\n",
              "    .dataframe thead th {\n",
              "        text-align: right;\n",
              "    }\n",
              "</style>\n",
              "<table border=\"1\" class=\"dataframe\">\n",
              "  <thead>\n",
              "    <tr style=\"text-align: right;\">\n",
              "      <th></th>\n",
              "      <th>count</th>\n",
              "      <th>mean</th>\n",
              "      <th>std</th>\n",
              "      <th>min</th>\n",
              "      <th>25%</th>\n",
              "      <th>50%</th>\n",
              "      <th>75%</th>\n",
              "      <th>max</th>\n",
              "    </tr>\n",
              "  </thead>\n",
              "  <tbody>\n",
              "    <tr>\n",
              "      <th>births</th>\n",
              "      <td>1692484.0</td>\n",
              "      <td>190.634691</td>\n",
              "      <td>1615.922978</td>\n",
              "      <td>5.0</td>\n",
              "      <td>7.0</td>\n",
              "      <td>12.0</td>\n",
              "      <td>32.0</td>\n",
              "      <td>99693.0</td>\n",
              "    </tr>\n",
              "    <tr>\n",
              "      <th>year</th>\n",
              "      <td>1692484.0</td>\n",
              "      <td>1969.475840</td>\n",
              "      <td>32.819578</td>\n",
              "      <td>1880.0</td>\n",
              "      <td>1946.0</td>\n",
              "      <td>1979.0</td>\n",
              "      <td>1997.0</td>\n",
              "      <td>2010.0</td>\n",
              "    </tr>\n",
              "  </tbody>\n",
              "</table>\n",
              "</div>\n",
              "    <div class=\"colab-df-buttons\">\n",
              "\n",
              "  <div class=\"colab-df-container\">\n",
              "    <button class=\"colab-df-convert\" onclick=\"convertToInteractive('df-9a4297ba-98c1-4d38-ac67-0963486c81d3')\"\n",
              "            title=\"Convert this dataframe to an interactive table.\"\n",
              "            style=\"display:none;\">\n",
              "\n",
              "  <svg xmlns=\"http://www.w3.org/2000/svg\" height=\"24px\" viewBox=\"0 -960 960 960\">\n",
              "    <path d=\"M120-120v-720h720v720H120Zm60-500h600v-160H180v160Zm220 220h160v-160H400v160Zm0 220h160v-160H400v160ZM180-400h160v-160H180v160Zm440 0h160v-160H620v160ZM180-180h160v-160H180v160Zm440 0h160v-160H620v160Z\"/>\n",
              "  </svg>\n",
              "    </button>\n",
              "\n",
              "  <style>\n",
              "    .colab-df-container {\n",
              "      display:flex;\n",
              "      gap: 12px;\n",
              "    }\n",
              "\n",
              "    .colab-df-convert {\n",
              "      background-color: #E8F0FE;\n",
              "      border: none;\n",
              "      border-radius: 50%;\n",
              "      cursor: pointer;\n",
              "      display: none;\n",
              "      fill: #1967D2;\n",
              "      height: 32px;\n",
              "      padding: 0 0 0 0;\n",
              "      width: 32px;\n",
              "    }\n",
              "\n",
              "    .colab-df-convert:hover {\n",
              "      background-color: #E2EBFA;\n",
              "      box-shadow: 0px 1px 2px rgba(60, 64, 67, 0.3), 0px 1px 3px 1px rgba(60, 64, 67, 0.15);\n",
              "      fill: #174EA6;\n",
              "    }\n",
              "\n",
              "    .colab-df-buttons div {\n",
              "      margin-bottom: 4px;\n",
              "    }\n",
              "\n",
              "    [theme=dark] .colab-df-convert {\n",
              "      background-color: #3B4455;\n",
              "      fill: #D2E3FC;\n",
              "    }\n",
              "\n",
              "    [theme=dark] .colab-df-convert:hover {\n",
              "      background-color: #434B5C;\n",
              "      box-shadow: 0px 1px 3px 1px rgba(0, 0, 0, 0.15);\n",
              "      filter: drop-shadow(0px 1px 2px rgba(0, 0, 0, 0.3));\n",
              "      fill: #FFFFFF;\n",
              "    }\n",
              "  </style>\n",
              "\n",
              "    <script>\n",
              "      const buttonEl =\n",
              "        document.querySelector('#df-9a4297ba-98c1-4d38-ac67-0963486c81d3 button.colab-df-convert');\n",
              "      buttonEl.style.display =\n",
              "        google.colab.kernel.accessAllowed ? 'block' : 'none';\n",
              "\n",
              "      async function convertToInteractive(key) {\n",
              "        const element = document.querySelector('#df-9a4297ba-98c1-4d38-ac67-0963486c81d3');\n",
              "        const dataTable =\n",
              "          await google.colab.kernel.invokeFunction('convertToInteractive',\n",
              "                                                    [key], {});\n",
              "        if (!dataTable) return;\n",
              "\n",
              "        const docLinkHtml = 'Like what you see? Visit the ' +\n",
              "          '<a target=\"_blank\" href=https://colab.research.google.com/notebooks/data_table.ipynb>data table notebook</a>'\n",
              "          + ' to learn more about interactive tables.';\n",
              "        element.innerHTML = '';\n",
              "        dataTable['output_type'] = 'display_data';\n",
              "        await google.colab.output.renderOutput(dataTable, element);\n",
              "        const docLink = document.createElement('div');\n",
              "        docLink.innerHTML = docLinkHtml;\n",
              "        element.appendChild(docLink);\n",
              "      }\n",
              "    </script>\n",
              "  </div>\n",
              "\n",
              "\n",
              "    <div id=\"df-0625cd47-a80d-47ed-b6e0-cc248aa49dbf\">\n",
              "      <button class=\"colab-df-quickchart\" onclick=\"quickchart('df-0625cd47-a80d-47ed-b6e0-cc248aa49dbf')\"\n",
              "                title=\"Suggest charts\"\n",
              "                style=\"display:none;\">\n",
              "\n",
              "<svg xmlns=\"http://www.w3.org/2000/svg\" height=\"24px\"viewBox=\"0 0 24 24\"\n",
              "     width=\"24px\">\n",
              "    <g>\n",
              "        <path d=\"M19 3H5c-1.1 0-2 .9-2 2v14c0 1.1.9 2 2 2h14c1.1 0 2-.9 2-2V5c0-1.1-.9-2-2-2zM9 17H7v-7h2v7zm4 0h-2V7h2v10zm4 0h-2v-4h2v4z\"/>\n",
              "    </g>\n",
              "</svg>\n",
              "      </button>\n",
              "\n",
              "<style>\n",
              "  .colab-df-quickchart {\n",
              "      --bg-color: #E8F0FE;\n",
              "      --fill-color: #1967D2;\n",
              "      --hover-bg-color: #E2EBFA;\n",
              "      --hover-fill-color: #174EA6;\n",
              "      --disabled-fill-color: #AAA;\n",
              "      --disabled-bg-color: #DDD;\n",
              "  }\n",
              "\n",
              "  [theme=dark] .colab-df-quickchart {\n",
              "      --bg-color: #3B4455;\n",
              "      --fill-color: #D2E3FC;\n",
              "      --hover-bg-color: #434B5C;\n",
              "      --hover-fill-color: #FFFFFF;\n",
              "      --disabled-bg-color: #3B4455;\n",
              "      --disabled-fill-color: #666;\n",
              "  }\n",
              "\n",
              "  .colab-df-quickchart {\n",
              "    background-color: var(--bg-color);\n",
              "    border: none;\n",
              "    border-radius: 50%;\n",
              "    cursor: pointer;\n",
              "    display: none;\n",
              "    fill: var(--fill-color);\n",
              "    height: 32px;\n",
              "    padding: 0;\n",
              "    width: 32px;\n",
              "  }\n",
              "\n",
              "  .colab-df-quickchart:hover {\n",
              "    background-color: var(--hover-bg-color);\n",
              "    box-shadow: 0 1px 2px rgba(60, 64, 67, 0.3), 0 1px 3px 1px rgba(60, 64, 67, 0.15);\n",
              "    fill: var(--button-hover-fill-color);\n",
              "  }\n",
              "\n",
              "  .colab-df-quickchart-complete:disabled,\n",
              "  .colab-df-quickchart-complete:disabled:hover {\n",
              "    background-color: var(--disabled-bg-color);\n",
              "    fill: var(--disabled-fill-color);\n",
              "    box-shadow: none;\n",
              "  }\n",
              "\n",
              "  .colab-df-spinner {\n",
              "    border: 2px solid var(--fill-color);\n",
              "    border-color: transparent;\n",
              "    border-bottom-color: var(--fill-color);\n",
              "    animation:\n",
              "      spin 1s steps(1) infinite;\n",
              "  }\n",
              "\n",
              "  @keyframes spin {\n",
              "    0% {\n",
              "      border-color: transparent;\n",
              "      border-bottom-color: var(--fill-color);\n",
              "      border-left-color: var(--fill-color);\n",
              "    }\n",
              "    20% {\n",
              "      border-color: transparent;\n",
              "      border-left-color: var(--fill-color);\n",
              "      border-top-color: var(--fill-color);\n",
              "    }\n",
              "    30% {\n",
              "      border-color: transparent;\n",
              "      border-left-color: var(--fill-color);\n",
              "      border-top-color: var(--fill-color);\n",
              "      border-right-color: var(--fill-color);\n",
              "    }\n",
              "    40% {\n",
              "      border-color: transparent;\n",
              "      border-right-color: var(--fill-color);\n",
              "      border-top-color: var(--fill-color);\n",
              "    }\n",
              "    60% {\n",
              "      border-color: transparent;\n",
              "      border-right-color: var(--fill-color);\n",
              "    }\n",
              "    80% {\n",
              "      border-color: transparent;\n",
              "      border-right-color: var(--fill-color);\n",
              "      border-bottom-color: var(--fill-color);\n",
              "    }\n",
              "    90% {\n",
              "      border-color: transparent;\n",
              "      border-bottom-color: var(--fill-color);\n",
              "    }\n",
              "  }\n",
              "</style>\n",
              "\n",
              "      <script>\n",
              "        async function quickchart(key) {\n",
              "          const quickchartButtonEl =\n",
              "            document.querySelector('#' + key + ' button');\n",
              "          quickchartButtonEl.disabled = true;  // To prevent multiple clicks.\n",
              "          quickchartButtonEl.classList.add('colab-df-spinner');\n",
              "          try {\n",
              "            const charts = await google.colab.kernel.invokeFunction(\n",
              "                'suggestCharts', [key], {});\n",
              "          } catch (error) {\n",
              "            console.error('Error during call to suggestCharts:', error);\n",
              "          }\n",
              "          quickchartButtonEl.classList.remove('colab-df-spinner');\n",
              "          quickchartButtonEl.classList.add('colab-df-quickchart-complete');\n",
              "        }\n",
              "        (() => {\n",
              "          let quickchartButtonEl =\n",
              "            document.querySelector('#df-0625cd47-a80d-47ed-b6e0-cc248aa49dbf button');\n",
              "          quickchartButtonEl.style.display =\n",
              "            google.colab.kernel.accessAllowed ? 'block' : 'none';\n",
              "        })();\n",
              "      </script>\n",
              "    </div>\n",
              "\n",
              "  <div id=\"id_22cc3afe-6c23-42e3-83fd-879e778de0cd\">\n",
              "    <style>\n",
              "      .colab-df-generate {\n",
              "        background-color: #E8F0FE;\n",
              "        border: none;\n",
              "        border-radius: 50%;\n",
              "        cursor: pointer;\n",
              "        display: none;\n",
              "        fill: #1967D2;\n",
              "        height: 32px;\n",
              "        padding: 0 0 0 0;\n",
              "        width: 32px;\n",
              "      }\n",
              "\n",
              "      .colab-df-generate:hover {\n",
              "        background-color: #E2EBFA;\n",
              "        box-shadow: 0px 1px 2px rgba(60, 64, 67, 0.3), 0px 1px 3px 1px rgba(60, 64, 67, 0.15);\n",
              "        fill: #174EA6;\n",
              "      }\n",
              "\n",
              "      [theme=dark] .colab-df-generate {\n",
              "        background-color: #3B4455;\n",
              "        fill: #D2E3FC;\n",
              "      }\n",
              "\n",
              "      [theme=dark] .colab-df-generate:hover {\n",
              "        background-color: #434B5C;\n",
              "        box-shadow: 0px 1px 3px 1px rgba(0, 0, 0, 0.15);\n",
              "        filter: drop-shadow(0px 1px 2px rgba(0, 0, 0, 0.3));\n",
              "        fill: #FFFFFF;\n",
              "      }\n",
              "    </style>\n",
              "    <button class=\"colab-df-generate\" onclick=\"generateWithVariable('description')\"\n",
              "            title=\"Generate code using this dataframe.\"\n",
              "            style=\"display:none;\">\n",
              "\n",
              "  <svg xmlns=\"http://www.w3.org/2000/svg\" height=\"24px\"viewBox=\"0 0 24 24\"\n",
              "       width=\"24px\">\n",
              "    <path d=\"M7,19H8.4L18.45,9,17,7.55,7,17.6ZM5,21V16.75L18.45,3.32a2,2,0,0,1,2.83,0l1.4,1.43a1.91,1.91,0,0,1,.58,1.4,1.91,1.91,0,0,1-.58,1.4L9.25,21ZM18.45,9,17,7.55Zm-12,3A5.31,5.31,0,0,0,4.9,8.1,5.31,5.31,0,0,0,1,6.5,5.31,5.31,0,0,0,4.9,4.9,5.31,5.31,0,0,0,6.5,1,5.31,5.31,0,0,0,8.1,4.9,5.31,5.31,0,0,0,12,6.5,5.46,5.46,0,0,0,6.5,12Z\"/>\n",
              "  </svg>\n",
              "    </button>\n",
              "    <script>\n",
              "      (() => {\n",
              "      const buttonEl =\n",
              "        document.querySelector('#id_22cc3afe-6c23-42e3-83fd-879e778de0cd button.colab-df-generate');\n",
              "      buttonEl.style.display =\n",
              "        google.colab.kernel.accessAllowed ? 'block' : 'none';\n",
              "\n",
              "      buttonEl.onclick = () => {\n",
              "        google.colab.notebook.generateWithVariable('description');\n",
              "      }\n",
              "      })();\n",
              "    </script>\n",
              "  </div>\n",
              "\n",
              "    </div>\n",
              "  </div>\n"
            ],
            "application/vnd.google.colaboratory.intrinsic+json": {
              "type": "dataframe",
              "variable_name": "description",
              "summary": "{\n  \"name\": \"description\",\n  \"rows\": 2,\n  \"fields\": [\n    {\n      \"column\": \"count\",\n      \"properties\": {\n        \"dtype\": \"number\",\n        \"std\": 0.0,\n        \"min\": 1692484.0,\n        \"max\": 1692484.0,\n        \"num_unique_values\": 1,\n        \"samples\": [\n          1692484.0\n        ],\n        \"semantic_type\": \"\",\n        \"description\": \"\"\n      }\n    },\n    {\n      \"column\": \"mean\",\n      \"properties\": {\n        \"dtype\": \"number\",\n        \"std\": 1257.8306394357282,\n        \"min\": 190.63469078585086,\n        \"max\": 1969.47584024428,\n        \"num_unique_values\": 2,\n        \"samples\": [\n          1969.47584024428\n        ],\n        \"semantic_type\": \"\",\n        \"description\": \"\"\n      }\n    },\n    {\n      \"column\": \"std\",\n      \"properties\": {\n        \"dtype\": \"number\",\n        \"std\": 1119.4231494444216,\n        \"min\": 32.81957756172216,\n        \"max\": 1615.9229775404272,\n        \"num_unique_values\": 2,\n        \"samples\": [\n          32.81957756172216\n        ],\n        \"semantic_type\": \"\",\n        \"description\": \"\"\n      }\n    },\n    {\n      \"column\": \"min\",\n      \"properties\": {\n        \"dtype\": \"number\",\n        \"std\": 1325.8252147247765,\n        \"min\": 5.0,\n        \"max\": 1880.0,\n        \"num_unique_values\": 2,\n        \"samples\": [\n          1880.0\n        ],\n        \"semantic_type\": \"\",\n        \"description\": \"\"\n      }\n    },\n    {\n      \"column\": \"25%\",\n      \"properties\": {\n        \"dtype\": \"number\",\n        \"std\": 1371.0800487207157,\n        \"min\": 7.0,\n        \"max\": 1946.0,\n        \"num_unique_values\": 2,\n        \"samples\": [\n          1946.0\n        ],\n        \"semantic_type\": \"\",\n        \"description\": \"\"\n      }\n    },\n    {\n      \"column\": \"50%\",\n      \"properties\": {\n        \"dtype\": \"number\",\n        \"std\": 1390.879038593939,\n        \"min\": 12.0,\n        \"max\": 1979.0,\n        \"num_unique_values\": 2,\n        \"samples\": [\n          1979.0\n        ],\n        \"semantic_type\": \"\",\n        \"description\": \"\"\n      }\n    },\n    {\n      \"column\": \"75%\",\n      \"properties\": {\n        \"dtype\": \"number\",\n        \"std\": 1389.4648250315659,\n        \"min\": 32.0,\n        \"max\": 1997.0,\n        \"num_unique_values\": 2,\n        \"samples\": [\n          1997.0\n        ],\n        \"semantic_type\": \"\",\n        \"description\": \"\"\n      }\n    },\n    {\n      \"column\": \"max\",\n      \"properties\": {\n        \"dtype\": \"number\",\n        \"std\": 69072.31170664552,\n        \"min\": 2010.0,\n        \"max\": 99693.0,\n        \"num_unique_values\": 2,\n        \"samples\": [\n          2010.0\n        ],\n        \"semantic_type\": \"\",\n        \"description\": \"\"\n      }\n    }\n  ]\n}"
            }
          },
          "metadata": {}
        }
      ]
    },
    {
      "cell_type": "markdown",
      "source": [
        "Cột year: Đã tải đúng dữ liệu, min là 1880 và max là 2010.\n",
        "\n",
        "Cột count (Số lượng):\n",
        "\n",
        "+ min = 5.0: Điều này cho thấy bộ dữ liệu gốc (từ Cục An sinh Xã hội) chỉ ghi lại các tên xuất hiện ít nhất 5 lần trong một năm.\n",
        "\n",
        "+ 50% (Trung vị) = 12.0: Một nửa số tên trong toàn bộ lịch sử này chỉ có 12 lượt đặt hoặc ít hơn.\n",
        "\n",
        "+ mean (Trung bình) = 190.6: Giá trị trung bình cao hơn nhiều so với trung vị.\n",
        "\n",
        "+ max = 99,683: Có ít nhất một tên trong một năm nào đó cực kỳ phổ biến.\n",
        "\n",
        "Kết luận thực tế: Dữ liệu bị lệch rất nặng (positively skewed). Hầu hết các tên (75%) đều có số lượng rất ít (dưới 32), nhưng một số ít tên \"siêu sao\" lại có số lượng khổng lồ, kéo giá trị trung bình lên cao."
      ],
      "metadata": {
        "id": "_t8xWmrNgG1d"
      }
    },
    {
      "cell_type": "markdown",
      "source": [
        "### (5) Tần suất xuất hiện từng tên trong dữ liệu \"name\""
      ],
      "metadata": {
        "id": "tHIEbchkgY8_"
      }
    },
    {
      "cell_type": "code",
      "source": [
        "data[\"name\"].value_counts()"
      ],
      "metadata": {
        "colab": {
          "base_uri": "https://localhost:8080/",
          "height": 490
        },
        "id": "uNHEd39hgcid",
        "outputId": "162205e2-9c51-47c3-c748-14ac052fa630"
      },
      "execution_count": 16,
      "outputs": [
        {
          "output_type": "execute_result",
          "data": {
            "text/plain": [
              "name\n",
              "Ollie             262\n",
              "Jesse             262\n",
              "Marion            262\n",
              "Leslie            262\n",
              "Johnnie           262\n",
              "                 ... \n",
              "Minhtri             1\n",
              "Mirsab              1\n",
              "Motley              1\n",
              "Mouhammad           1\n",
              "Oluwamayomikun      1\n",
              "Name: count, Length: 88656, dtype: int64"
            ],
            "text/html": [
              "<div>\n",
              "<style scoped>\n",
              "    .dataframe tbody tr th:only-of-type {\n",
              "        vertical-align: middle;\n",
              "    }\n",
              "\n",
              "    .dataframe tbody tr th {\n",
              "        vertical-align: top;\n",
              "    }\n",
              "\n",
              "    .dataframe thead th {\n",
              "        text-align: right;\n",
              "    }\n",
              "</style>\n",
              "<table border=\"1\" class=\"dataframe\">\n",
              "  <thead>\n",
              "    <tr style=\"text-align: right;\">\n",
              "      <th></th>\n",
              "      <th>count</th>\n",
              "    </tr>\n",
              "    <tr>\n",
              "      <th>name</th>\n",
              "      <th></th>\n",
              "    </tr>\n",
              "  </thead>\n",
              "  <tbody>\n",
              "    <tr>\n",
              "      <th>Ollie</th>\n",
              "      <td>262</td>\n",
              "    </tr>\n",
              "    <tr>\n",
              "      <th>Jesse</th>\n",
              "      <td>262</td>\n",
              "    </tr>\n",
              "    <tr>\n",
              "      <th>Marion</th>\n",
              "      <td>262</td>\n",
              "    </tr>\n",
              "    <tr>\n",
              "      <th>Leslie</th>\n",
              "      <td>262</td>\n",
              "    </tr>\n",
              "    <tr>\n",
              "      <th>Johnnie</th>\n",
              "      <td>262</td>\n",
              "    </tr>\n",
              "    <tr>\n",
              "      <th>...</th>\n",
              "      <td>...</td>\n",
              "    </tr>\n",
              "    <tr>\n",
              "      <th>Minhtri</th>\n",
              "      <td>1</td>\n",
              "    </tr>\n",
              "    <tr>\n",
              "      <th>Mirsab</th>\n",
              "      <td>1</td>\n",
              "    </tr>\n",
              "    <tr>\n",
              "      <th>Motley</th>\n",
              "      <td>1</td>\n",
              "    </tr>\n",
              "    <tr>\n",
              "      <th>Mouhammad</th>\n",
              "      <td>1</td>\n",
              "    </tr>\n",
              "    <tr>\n",
              "      <th>Oluwamayomikun</th>\n",
              "      <td>1</td>\n",
              "    </tr>\n",
              "  </tbody>\n",
              "</table>\n",
              "<p>88656 rows × 1 columns</p>\n",
              "</div><br><label><b>dtype:</b> int64</label>"
            ]
          },
          "metadata": {},
          "execution_count": 16
        }
      ]
    },
    {
      "cell_type": "markdown",
      "source": [
        "Hiểu sai về \"Count\": Cột count ở đây (ví dụ: 262) không phải là số lượng em bé. Nó có nghĩa là tên \"Ollie\" xuất hiện trong 262 dòng khác nhau trong toàn bộ 1.7 triệu dòng dữ liệu.Ý nghĩa của 262 (Max): Bộ dữ liệu kéo dài 131 năm (1880-2010).\n",
        "\n",
        "Con số 262 chính là $131 \\text{ năm} \\times 2 \\text{ giới tính}$. Điều này cho thấy các tên top đầu (Ollie, Jesse, Marion) là những cái tên unisex (lưỡng tính) bền bỉ nhất, chúng xuất hiện cho cả Nam và Nữ trong gần như mỗi năm.Ý nghĩa của 1 (Min): Rất nhiều tên (như \"Minhtri\", \"Oluwamayomikun\") chỉ có số đếm là 1.\n",
        "\n",
        "Điều này có nghĩa chúng là những tên \"độc lạ\" (one-hit wonders), chỉ xuất hiện trong một dòng duy nhất (ví dụ: chỉ xuất hiện cho Nam vào năm 1995) và không bao giờ lặp lại ở bất kỳ năm nào hoặc giới tính nào khác.\n",
        "\n",
        "Độ đa dạng: Có tổng cộng 88,656 cách viết/đặt tên (spellings) khác nhau, cho thấy sự đa dạng tên gọi cực kỳ lớn qua 131 năm."
      ],
      "metadata": {
        "id": "WhJoamfTg7Vl"
      }
    },
    {
      "cell_type": "markdown",
      "source": [
        "### (6) Biểu đồ Tương quan\n",
        "\n",
        "phân tích mối quan hệ giữa từng cặp biến số (cột 'name' và 'sex'), (cột 'year' và 'count')"
      ],
      "metadata": {
        "id": "hbSXpPkatdDW"
      }
    },
    {
      "cell_type": "markdown",
      "source": [
        "#### 6.1 Dùng barchart để minh họa top 10 tên dựa trên giới tính nam('M') và nữ('F') năm 1880 và năm 2010"
      ],
      "metadata": {
        "id": "qzsNCIF5xPis"
      }
    },
    {
      "cell_type": "code",
      "source": [
        "import matplotlib.pyplot as plt\n",
        "import seaborn as sns\n",
        "\n",
        "# Giả sử 'data' là DataFrame đã được gộp của bạn\n",
        "\n",
        "print(\"Đang chuẩn bị dữ liệu cho 4 biểu đồ...\")\n",
        "\n",
        "# --- 1. Chuẩn bị dữ liệu cho 4 nhóm ---\n",
        "\n",
        "# Top 10 Nữ (1880)\n",
        "data_f_1880 = data[(data['year'] == 1880) & (data['sex'] == 'F')]\n",
        "top_10_f_1880 = data_f_1880.sort_values(by='births', ascending=False).head(10)\n",
        "\n",
        "# Top 10 Nam (1880)\n",
        "data_m_1880 = data[(data['year'] == 1880) & (data['sex'] == 'M')]\n",
        "top_10_m_1880 = data_m_1880.sort_values(by='births', ascending=False).head(10)\n",
        "\n",
        "# Top 10 Nữ (2010)\n",
        "data_f_2010 = data[(data['year'] == 2010) & (data['sex'] == 'F')]\n",
        "top_10_f_2010 = data_f_2010.sort_values(by='births', ascending=False).head(10)\n",
        "\n",
        "# Top 10 Nam (2010)\n",
        "data_m_2010 = data[(data['year'] == 2010) & (data['sex'] == 'M')]\n",
        "top_10_m_2010 = data_m_2010.sort_values(by='births', ascending=False).head(10)\n",
        "\n",
        "\n",
        "# --- 2. Vẽ lưới biểu đồ 2x2 ---\n",
        "print(\"Đang vẽ biểu đồ...\")\n",
        "\n",
        "fig, axes = plt.subplots(2, 2, figsize=(18, 12)) # Tạo lưới 2 hàng, 2 cột\n",
        "fig.suptitle('So sánh Top 10 Tên Phổ Biến (1880 vs 2010)', fontsize=20, y=1.03)\n",
        "\n",
        "# Biểu đồ 1: Nữ 1880 (Hàng 0, Cột 0)\n",
        "sns.barplot(x='births', y='name', data=top_10_f_1880, ax=axes[0, 0], palette='Reds_r')\n",
        "axes[0, 0].set_title('Top 10 Tên Nữ (1880)', fontsize=14)\n",
        "axes[0, 0].set_xlabel('Số lượng')\n",
        "axes[0, 0].set_ylabel('Tên')\n",
        "\n",
        "# Biểu đồ 2: Nam 1880 (Hàng 0, Cột 1)\n",
        "sns.barplot(x='births', y='name', data=top_10_m_1880, ax=axes[0, 1], palette='Blues_r')\n",
        "axes[0, 1].set_title('Top 10 Tên Nam (1880)', fontsize=14)\n",
        "axes[0, 1].set_xlabel('Số lượng')\n",
        "axes[0, 1].set_ylabel(None) # Ẩn nhãn y\n",
        "\n",
        "# Biểu đồ 3: Nữ 2010 (Hàng 1, Cột 0)\n",
        "sns.barplot(x='births', y='name', data=top_10_f_2010, ax=axes[1, 0], palette='Reds')\n",
        "axes[1, 0].set_title('Top 10 Tên Nữ (2010)', fontsize=14)\n",
        "axes[1, 0].set_xlabel('Số lượng')\n",
        "axes[1, 0].set_ylabel('Tên')\n",
        "\n",
        "# Biểu đồ 4: Nam 2010 (Hàng 1, Cột 1)\n",
        "sns.barplot(x='births', y='name', data=top_10_m_2010, ax=axes[1, 1], palette='Blues')\n",
        "axes[1, 1].set_title('Top 10 Tên Nam (2010)', fontsize=14)\n",
        "axes[1, 1].set_xlabel('Số lượng')\n",
        "axes[1, 1].set_ylabel(None) # Ẩn nhãn y\n",
        "\n",
        "# Tự động điều chỉnh layout cho đẹp\n",
        "plt.tight_layout(rect=[0, 0.03, 1, 0.98])\n",
        "plt.show()"
      ],
      "metadata": {
        "colab": {
          "base_uri": "https://localhost:8080/",
          "height": 1000
        },
        "id": "pd283p1Q00IE",
        "outputId": "2f398205-0ddf-496f-9aef-c4f235999d7f"
      },
      "execution_count": 19,
      "outputs": [
        {
          "output_type": "stream",
          "name": "stdout",
          "text": [
            "Đang chuẩn bị dữ liệu cho 4 biểu đồ...\n",
            "Đang vẽ biểu đồ...\n"
          ]
        },
        {
          "output_type": "stream",
          "name": "stderr",
          "text": [
            "/tmp/ipython-input-4041762390.py:34: FutureWarning: \n",
            "\n",
            "Passing `palette` without assigning `hue` is deprecated and will be removed in v0.14.0. Assign the `y` variable to `hue` and set `legend=False` for the same effect.\n",
            "\n",
            "  sns.barplot(x='births', y='name', data=top_10_f_1880, ax=axes[0, 0], palette='Reds_r')\n",
            "/tmp/ipython-input-4041762390.py:40: FutureWarning: \n",
            "\n",
            "Passing `palette` without assigning `hue` is deprecated and will be removed in v0.14.0. Assign the `y` variable to `hue` and set `legend=False` for the same effect.\n",
            "\n",
            "  sns.barplot(x='births', y='name', data=top_10_m_1880, ax=axes[0, 1], palette='Blues_r')\n",
            "/tmp/ipython-input-4041762390.py:46: FutureWarning: \n",
            "\n",
            "Passing `palette` without assigning `hue` is deprecated and will be removed in v0.14.0. Assign the `y` variable to `hue` and set `legend=False` for the same effect.\n",
            "\n",
            "  sns.barplot(x='births', y='name', data=top_10_f_2010, ax=axes[1, 0], palette='Reds')\n",
            "/tmp/ipython-input-4041762390.py:52: FutureWarning: \n",
            "\n",
            "Passing `palette` without assigning `hue` is deprecated and will be removed in v0.14.0. Assign the `y` variable to `hue` and set `legend=False` for the same effect.\n",
            "\n",
            "  sns.barplot(x='births', y='name', data=top_10_m_2010, ax=axes[1, 1], palette='Blues')\n"
          ]
        },
        {
          "output_type": "display_data",
          "data": {
            "text/plain": [
              "<Figure size 1800x1200 with 4 Axes>"
            ],
            "image/png": "[encoded data removed]"
          },
          "metadata": {}
        }
      ]
    },
    {
      "cell_type": "markdown",
      "source": [
        "+ **Không có tên nào trụ lại (0% trùng lặp):** Không có một cái tên nào trong Top 10 của cả Nam và Nữ năm 1880 còn xuất hiện trong Top 10 năm 2010. Các tên cổ điển (Mary, Anna, Emma, John, William) đã bị thay thế hoàn toàn bởi các tên hiện đại (Isabella, Sophia, Jacob, Mason).\n",
        "\n",
        "+ **Ngoại lệ:** Tên \"Emma\" (Nữ) và \"William\", \"James\" (Nam) có xuất hiện trong cả hai thời kỳ, nhưng biểu đồ bạn cung cấp không hiển thị chúng trong Top 10 của cả hai năm (có thể là do lỗi code hoặc phiên bản dữ liệu). Tuy nhiên, dựa trên hình ảnh, sự thay đổi là tuyệt đối.\n",
        "\n",
        "+ **Sự đa dạng hóa (Competition):**\n",
        "\n",
        "  + **Năm 1880:** Top 10 chiếm ưu thế tuyệt đối. Tên \"John\" và \"Mary\" có số lượng vượt trội (gần 10,000 và 7,000) so với phần còn lại.\n",
        "\n",
        "  + **Năm 2010:** Cuộc cạnh tranh khốc liệt hơn nhiều. Số lượng của các tên Top 10 (Isabella, Jacob) cao hơn (trên 20,000), nhưng khoảng cách giữa tên số 1 và tên số 10 là không quá lớn. Điều này cho thấy có nhiều tên \"phổ biến\" cùng một lúc thay vì chỉ một vài tên thống trị.\n",
        "\n",
        "+ **Thay đổi về âm tiết:**\n",
        "\n",
        "  + **Tên Nữ:** Các tên cổ điển năm 1880 (Mary, Anna, Elizabeth) đã nhường chỗ cho các tên có âm \"a\" ở cuối (Isabella, Sophia, Olivia, Ava).\n",
        "\n",
        "  + **Tên Nam:** Các tên cổ điển (John, William, James) đã bị thay thế bởi các tên có âm \"n\" ở cuối (Mason, Ethan, Aiden, Jayden)."
      ],
      "metadata": {
        "id": "fueTnrii1GKt"
      }
    },
    {
      "cell_type": "markdown",
      "source": [
        "### 6.2 Dùng barchart để minh họa top 10 tên dựa trên giới tính nam('M') và nữ('F') xuyên suốt từ năm 1880 đến năm 2010"
      ],
      "metadata": {
        "id": "T8mN6iiig35f"
      }
    },
    {
      "cell_type": "code",
      "source": [
        "# --- Top 10 Tên Nữ (1880-2010) ---\n",
        "print(\"\\n--- Top 10 Tên Nữ Phổ Biến Nhất (1880-2010) ---\")\n",
        "# 1. Lọc Nữ\n",
        "female_names = data[data['sex'] == 'F']\n",
        "# 2. Group theo tên và tính tổng số lượng qua tất cả các năm\n",
        "top_female_names = female_names.groupby('name')['births'].sum()\n",
        "# 3. Sắp xếp giảm dần và lấy top 10\n",
        "top_10_female = top_female_names.sort_values(ascending=False).head(10)\n",
        "print(top_10_female)\n",
        "print(\"\\n\")\n",
        "\n",
        "# --- Top 10 Tên Nam (1880-2010) ---\n",
        "print(\"--- Top 10 Tên Nam Phổ Biến Nhất (1880-2010) ---\")\n",
        "# 1. Lọc Nam\n",
        "male_names = data[data['sex'] == 'M']\n",
        "# 2. Group theo tên và tính tổng số lượng qua tất cả các năm\n",
        "top_male_names = male_names.groupby('name')['births'].sum()\n",
        "# 3. Sắp xếp giảm dần và lấy top 10\n",
        "top_10_male = top_male_names.sort_values(ascending=False).head(10)\n",
        "print(top_10_male)\n",
        "\n",
        "\n",
        "\n",
        "# Tạo 2 biểu đồ (1 hàng, 2 cột)\n",
        "fig, axes = plt.subplots(1, 2, figsize=(16, 6))\n",
        "\n",
        "# Biểu đồ cho Nữ\n",
        "sns.barplot(\n",
        "    x=top_10_female.values,\n",
        "    y=top_10_female.index,\n",
        "    ax=axes[0],\n",
        "    palette='Reds_r'\n",
        ")\n",
        "axes[0].set_title('Top 10 Tên Nữ (Toàn bộ 1880-2010)')\n",
        "axes[0].set_xlabel('Tổng số lượng(Triệu)')\n",
        "axes[0].set_ylabel('Tên')\n",
        "\n",
        "# Biểu đồ cho Nam\n",
        "sns.barplot(\n",
        "    x=top_10_male.values,\n",
        "    y=top_10_male.index,\n",
        "    ax=axes[1],\n",
        "    palette='Blues_r'\n",
        ")\n",
        "axes[1].set_title('Top 10 Tên Nam (Toàn bộ 1880-2010)')\n",
        "axes[1].set_xlabel('Tổng số lượng(Triệu)')\n",
        "axes[1].set_ylabel(None) # Ẩn nhãn y\n",
        "\n",
        "plt.tight_layout()\n",
        "plt.show()"
      ],
      "metadata": {
        "colab": {
          "base_uri": "https://localhost:8080/",
          "height": 1000
        },
        "id": "bMly3EMSvy9F",
        "outputId": "9ec9c123-0d16-4a36-def6-9b2bbea34724"
      },
      "execution_count": 21,
      "outputs": [
        {
          "output_type": "stream",
          "name": "stdout",
          "text": [
            "\n",
            "--- Top 10 Tên Nữ Phổ Biến Nhất (1880-2010) ---\n",
            "name\n",
            "Mary         4105527\n",
            "Patricia     1569127\n",
            "Elizabeth    1562959\n",
            "Jennifer     1455423\n",
            "Linda        1449224\n",
            "Barbara      1431997\n",
            "Margaret     1232942\n",
            "Susan        1119380\n",
            "Dorothy      1104523\n",
            "Sarah        1041144\n",
            "Name: births, dtype: int64\n",
            "\n",
            "\n",
            "--- Top 10 Tên Nam Phổ Biến Nhất (1880-2010) ---\n",
            "name\n",
            "James      5052350\n",
            "John       5042959\n",
            "Robert     4770241\n",
            "Michael    4246221\n",
            "William    3988649\n",
            "David      3528471\n",
            "Richard    2543981\n",
            "Joseph     2521200\n",
            "Charles    2336611\n",
            "Thomas     2255911\n",
            "Name: births, dtype: int64\n"
          ]
        },
        {
          "output_type": "stream",
          "name": "stderr",
          "text": [
            "/tmp/ipython-input-3617051084.py:28: FutureWarning: \n",
            "\n",
            "Passing `palette` without assigning `hue` is deprecated and will be removed in v0.14.0. Assign the `y` variable to `hue` and set `legend=False` for the same effect.\n",
            "\n",
            "  sns.barplot(\n",
            "/tmp/ipython-input-3617051084.py:39: FutureWarning: \n",
            "\n",
            "Passing `palette` without assigning `hue` is deprecated and will be removed in v0.14.0. Assign the `y` variable to `hue` and set `legend=False` for the same effect.\n",
            "\n",
            "  sns.barplot(\n"
          ]
        },
        {
          "output_type": "display_data",
          "data": {
            "text/plain": [
              "<Figure size 1600x600 with 2 Axes>"
            ],
            "image/png": "[encoded data removed]"
          },
          "metadata": {}
        }
      ]
    },
    {
      "cell_type": "markdown",
      "source": [
        "**Kết luận:**\n",
        "+ **Sự ổn định của Top 2 (Nam):** \"James\" và \"John\" là hai cái tên thành công nhất mọi thời đại, vượt trội hoàn toàn so với phần còn lại, với tổng số lượng đặt tên xấp xỉ 5 triệu cho mỗi tên.\n",
        "\n",
        "+ **Sự thống trị của Top 2 (Nữ):** Tương tự, \"Mary\" và \"Patricia\" là hai tên nữ phổ biến nhất trong lịch sử, mặc dù \"Mary\" có số lượng (khoảng 4.1 triệu) cao hơn đáng kể so với \"Patricia\" (khoảng 3.7 triệu).\n",
        "\n",
        "+ **Khoảng cách rõ rệt:** Cả ở Nam và Nữ, có một khoảng cách rõ ràng giữa Top 2 và phần còn lại của Top 10. Điều này cho thấy trong lịch sử, xu hướng đặt tên tập trung vào một vài lựa chọn rất an toàn và phổ biến."
      ],
      "metadata": {
        "id": "cgHZZ5f21tbD"
      }
    },
    {
      "cell_type": "markdown",
      "source": [
        "#### 6.2 Dùng barchart để thể hiện quan hệ giữa cột 'year' và 'count'"
      ],
      "metadata": {
        "id": "t-CoSm-Zxhcc"
      }
    },
    {
      "cell_type": "code",
      "source": [
        "# --- 3. VẼ BIỂU ĐỒ 2: Stacked Bar Chart \"Tổng số sinh theo Thập kỷ, chia theo Giới tính\" ---\n",
        "print(\"\\n--- Bắt đầu vẽ Biểu đồ 2: Tổng sinh theo Thập kỷ & Giới tính ---\")\n",
        "\n",
        "# Tạo cột 'thập kỷ' để biểu đồ dễ đọc hơn (thay vì 131 cột năm)\n",
        "data['decade'] = (data['year'] // 10) * 10\n",
        "\n",
        "# Nhóm theo thập kỷ và giới tính, tính tổng\n",
        "total_births_decade_sex = data.groupby(['decade', 'sex'])['births'].sum().unstack()\n",
        "\n",
        "if total_births_decade_sex.empty:\n",
        "    print(\"Không thể nhóm dữ liệu theo thập kỷ và giới tính.\")\n",
        "else:\n",
        "    # Vẽ biểu đồ cột chồng\n",
        "    ax = total_births_decade_sex.plot(\n",
        "        kind='bar',\n",
        "        stacked=True,\n",
        "        figsize=(12, 7),\n",
        "        colormap='coolwarm'\n",
        "    )\n",
        "\n",
        "    plt.title('Tổng số sinh theo Thập kỷ và Giới tính (1880-2010)', fontsize=16)\n",
        "    plt.xlabel('Thập kỷ', fontsize=12)\n",
        "    plt.ylabel('Tổng số sinh', fontsize=12)\n",
        "    # Định dạng lại nhãn trục X (ví dụ: \"1880s\")\n",
        "    ax.set_xticklabels([f'{d}s' for d in total_births_decade_sex.index], rotation=45, ha='right')\n",
        "    plt.legend(title='Giới tính')\n",
        "    plt.tight_layout()\n",
        "    plt.savefig('total_births_decade_stacked_barchart.png')\n",
        "    print(\"Đã lưu 'total_births_decade_stacked_barchart.png'\")"
      ],
      "metadata": {
        "colab": {
          "base_uri": "https://localhost:8080/",
          "height": 759
        },
        "id": "nWdV4vB9yJtl",
        "outputId": "ed4fc040-c136-430f-a7e3-649c20e5f2be"
      },
      "execution_count": 22,
      "outputs": [
        {
          "output_type": "stream",
          "name": "stdout",
          "text": [
            "\n",
            "--- Bắt đầu vẽ Biểu đồ 2: Tổng sinh theo Thập kỷ & Giới tính ---\n",
            "Đã lưu 'total_births_decade_stacked_barchart.png'\n"
          ]
        },
        {
          "output_type": "display_data",
          "data": {
            "text/plain": [
              "<Figure size 1200x700 with 1 Axes>"
            ],
            "image/png": "[encoded data removed]"
          },
          "metadata": {}
        }
      ]
    },
    {
      "cell_type": "markdown",
      "source": [
        "+ **Giai đoạn 1 (1880 - ~1940): Tăng trưởng chậm**\n",
        "\n",
        "Dữ liệu cho thấy sự gia tăng tương đối ổn định nhưng chậm chạp về tổng số ca sinh.\n",
        "\n",
        "Có một sự sụt giảm đáng chú ý trong khoảng những năm 1920-1930, có thể trùng với thời kỳ Đại suy thoái (Great Depression).\n",
        "\n",
        "+ **Giai đoạn 2 (~1945 - ~1960): Bùng nổ trẻ em (Baby Boom)**\n",
        "\n",
        "Đây là đặc điểm nổi bật nhất của biểu đồ.\n",
        "\n",
        "Ngay sau Thế chiến thứ II (kết thúc năm 1945), đã có một sự gia tăng đột biến và mạnh mẽ về số lượng trẻ em sinh ra.\n",
        "\n",
        "Đỉnh điểm của đợt bùng nổ này dường như rơi vào khoảng cuối những năm 1950 đến đầu những năm 1960.\n",
        "\n",
        "+ **Giai đoạn 3 (~1960 - ~1975): Sụt giảm (Baby Bust)**\n",
        "\n",
        "Sau khi đạt đỉnh, số ca sinh giảm mạnh và nhanh chóng, tạo ra một \"thung lũng\" vào khoảng giữa những năm 1970.\n",
        "\n",
        "+ **Giai đoạn 4 (~1980 - 2010): Tăng trưởng trở lại và ổn định ở mức cao**\n",
        "\n",
        "Từ cuối những năm 1970, số ca sinh bắt đầu tăng trở lại, tạo ra một \"tiếng vang\" của thế hệ Baby Boom (những người thuộc thế hệ này bắt đầu sinh con).\n",
        "\n",
        "Số ca sinh đạt một đỉnh cao mới vào khoảng năm 2007-2008, thậm chí vượt qua cả đỉnh của thời kỳ Baby Boom, trước khi bắt đầu giảm nhẹ vào cuối biểu đồ (có thể liên quan đến cuộc khủng hoảng tài chính 2008)."
      ],
      "metadata": {
        "id": "qXcpd_1MzFA2"
      }
    },
    {
      "cell_type": "markdown",
      "source": [
        "#### 6.4 Tổng hợp dữ liệu theo cấp độ năm('year') và giới tính('sex') bằng cách sử dụng pivot_table"
      ],
      "metadata": {
        "id": "Flp-9ZSQZvlW"
      }
    },
    {
      "cell_type": "code",
      "source": [
        "# In [112]: Tạo pivot table\n",
        "total_births = data.pivot_table(\"births\", index=\"year\", columns=\"sex\", aggfunc=sum)\n",
        "\n",
        "# In [113]: Hiển thị 5 dòng cuối của bảng (tùy chọn)\n",
        "print(total_births.tail())\n",
        "\n",
        "# In [114]: Vẽ biểu đồ\n",
        "total_births.plot(title=\"Total births by sex and year\")\n",
        "\n",
        "# Hiển thị biểu đồ\n",
        "plt.show()"
      ],
      "metadata": {
        "colab": {
          "base_uri": "https://localhost:8080/",
          "height": 648
        },
        "id": "ZuFvPEn3Z5dr",
        "outputId": "32729d3c-c259-40a4-c0d3-30e4cfcdda3f"
      },
      "execution_count": 24,
      "outputs": [
        {
          "output_type": "stream",
          "name": "stderr",
          "text": [
            "/tmp/ipython-input-390346946.py:2: FutureWarning: The provided callable <built-in function sum> is currently using DataFrameGroupBy.sum. In a future version of pandas, the provided callable will be used directly. To keep current behavior pass the string \"sum\" instead.\n",
            "  total_births = data.pivot_table(\"births\", index=\"year\", columns=\"sex\", aggfunc=sum)\n"
          ]
        },
        {
          "output_type": "stream",
          "name": "stdout",
          "text": [
            "sex         F        M\n",
            "year                  \n",
            "2006  1900673  2054644\n",
            "2007  1921941  2074707\n",
            "2008  1890111  2039317\n",
            "2009  1836214  1982609\n",
            "2010  1776636  1917792\n"
          ]
        },
        {
          "output_type": "display_data",
          "data": {
            "text/plain": [
              "<Figure size 640x480 with 1 Axes>"
            ],
            "image/png": "[encoded data removed]"
          },
          "metadata": {}
        }
      ]
    },
    {
      "cell_type": "markdown",
      "source": [
        "**Biểu đồ trực quan hóa kết quả này, cho thấy:**\n",
        "\n",
        "+ Xu hướng sinh tăng dần từ 1880 đến 2010.\n",
        "\n",
        "+ Có một đợt bùng nổ sinh (baby boom) rõ rệt đạt đỉnh vào khoảng năm 1960.\n",
        "\n",
        "+ Một quan sát thú vị là đường 'M' (Nam) luôn nằm trên đường 'F' (Nữ), cho thấy số lượng bé trai sinh ra hàng năm luôn cao hơn một chút so với bé gái."
      ],
      "metadata": {
        "id": "FHIqlxdadE4E"
      }
    },
    {
      "cell_type": "markdown",
      "source": [
        "#### 6.5 Kết luận chung"
      ],
      "metadata": {
        "id": "P-R7wBZ_2Ed9"
      }
    },
    {
      "cell_type": "markdown",
      "source": [
        "Ảnh hưởng của xã hội (Từ biểu đồ Tổng số sinh) đã tác động đến xu hướng đặt tên vì không chỉ là về sở thích, mà còn bị ảnh hưởng bởi số lượng trẻ em được sinh ra.\n",
        "\n",
        "Giai đoạn \"Baby Boom\" (khoảng 1945-1960) cho thấy sự gia tăng đột biến về tổng số sinh. Đây chính là thời kỳ mà các tên như \"James\", \"Robert\", \"Linda\", \"Mary\" đạt đến đỉnh cao tuyệt đối về số lượng, góp phần lớn giúp chúng đứng đầu bảng xếp hạng mọi thời đại."
      ],
      "metadata": {
        "id": "cPeOy3BO2pCd"
      }
    },
    {
      "cell_type": "markdown",
      "source": [
        "## **4. Tiền xử lý dữ liệu**"
      ],
      "metadata": {
        "id": "gPYsmgv-OFbu"
      }
    },
    {
      "cell_type": "markdown",
      "source": [
        "## **5. Xử lý đặc trưng**"
      ],
      "metadata": {
        "id": "vvS7viayOQmI"
      }
    },
    {
      "cell_type": "markdown",
      "source": [
        "## **6. Quyết định trên dữ liệu**"
      ],
      "metadata": {
        "id": "3W_sVaIAOXjF"
      }
    }
  ]
}